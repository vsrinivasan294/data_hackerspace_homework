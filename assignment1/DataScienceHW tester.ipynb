{
 "cells": [
  {
   "cell_type": "code",
   "execution_count": 15,
   "metadata": {},
   "outputs": [
    {
     "name": "stdout",
     "output_type": "stream",
     "text": [
      "[[  0.   0.]\n",
      " [255.   0.]]\n"
     ]
    }
   ],
   "source": [
    "import numpy as np\n",
    "import pandas as pd\n",
    "\n",
    "def normalize(image):\n",
    "    maximum = image.max()\n",
    "    minimum = image.min()\n",
    "    \n",
    "    for x in range(len(image)):\n",
    "        for y in range(len(image[0])):\n",
    "            p = image[x,y]\n",
    "            image[x,y] = (float(p - minimum) * 255.0)/float(maximum-minimum)\n",
    "    \n",
    "    return image\n",
    "\n",
    "\n",
    "print(normalize(np.array([[2.0,2.0], [3.0,2.0]])))\n"
   ]
  },
  {
   "cell_type": "code",
   "execution_count": 242,
   "metadata": {
    "scrolled": true
   },
   "outputs": [
    {
     "data": {
      "text/plain": [
       "['Venusaur']"
      ]
     },
     "execution_count": 242,
     "metadata": {},
     "output_type": "execute_result"
    }
   ],
   "source": [
    "import json\n",
    "import numpy\n",
    "import pandas as pd\n",
    "    \n",
    "def weigh_pokemons(filename, weight):\n",
    "  \n",
    "    out = []\n",
    "\n",
    "    with open(filename) as f:\n",
    "        data = json.load(f)\n",
    "        for pkmn in data[\"pokemon\"]:\n",
    "            if (float(pkmn[\"weight\"].split(\" \")[0]) == weight):\n",
    "                out.append(pkmn[\"name\"])\n",
    "        \n",
    "    return out\n",
    "    \n",
    "weigh_pokemons(\"pokedex.json\", 100)"
   ]
  },
  {
   "cell_type": "code",
   "execution_count": null,
   "metadata": {},
   "outputs": [],
   "source": [
    "import numpy as np\n",
    "import pandas as pd\n",
    "\n",
    "def reflections_and_projections(points):\n",
    "    \n",
    "    out = [][]\n",
    "    \n",
    "    \n",
    "    \n",
    "    \n",
    "    \n",
    "    \n",
    "    \n",
    "    "
   ]
  },
  {
   "cell_type": "code",
   "execution_count": 251,
   "metadata": {},
   "outputs": [
    {
     "data": {
      "text/plain": [
       "2712"
      ]
     },
     "execution_count": 251,
     "metadata": {},
     "output_type": "execute_result"
    }
   ],
   "source": [
    "import json\n",
    "import numpy\n",
    "import pandas as pd\n",
    "    \n",
    "def single_type_candy_count(filename):\n",
    "  \n",
    "    out = 0\n",
    "\n",
    "    with open(filename) as f:\n",
    "        data = json.load(f)\n",
    "        for pkmn in data[\"pokemon\"]:\n",
    "            if (len(pkmn[\"type\"]) == 1):\n",
    "                if ('candy_count' in pkmn):\n",
    "                    out = out + pkmn[\"candy_count\"]\n",
    "        \n",
    "    return out\n",
    "    \n",
    "single_type_candy_count(\"pokedex.json\")"
   ]
  },
  {
   "cell_type": "code",
   "execution_count": 232,
   "metadata": {},
   "outputs": [
    {
     "name": "stdout",
     "output_type": "stream",
     "text": [
      "[63, 66, 79, 49, 65, 60, 85, 132, 141, 183, 167, 171, 165, 157, 166, 171, 156, 155, 146, 181, 154, 108, 105, 111]\n"
     ]
    },
    {
     "name": "stderr",
     "output_type": "stream",
     "text": [
      "/anaconda3/lib/python3.6/site-packages/ipykernel_launcher.py:10: SettingWithCopyWarning: \n",
      "A value is trying to be set on a copy of a slice from a DataFrame.\n",
      "Try using .loc[row_indexer,col_indexer] = value instead\n",
      "\n",
      "See the caveats in the documentation: http://pandas.pydata.org/pandas-docs/stable/indexing.html#indexing-view-versus-copy\n",
      "  # Remove the CWD from sys.path while we load stuff.\n"
     ]
    }
   ],
   "source": [
    "import json\n",
    "import csv\n",
    "import numpy as np\n",
    "import pandas as pd\n",
    "\n",
    "def histogram_times(filename):\n",
    "\n",
    "    flight_data = pd.read_csv(filename)\n",
    "    flight_data1 = flight_data.dropna(subset = ['Time'])\n",
    "    flight_data1['Time'] = flight_data1['Time'].str.split(':').str[0]\n",
    "\n",
    "    #Removing the bad values\n",
    "    flight_data1 = flight_data1.drop(flight_data1.index[flight_data1.Time == 'c'])\n",
    "    flight_data1 = flight_data1.drop(flight_data1.index[flight_data1.Time == 'c16'])\n",
    "    flight_data1 = flight_data1.drop(flight_data1.index[flight_data1.Time == 'c14'])\n",
    "    flight_data1 = flight_data1.drop(flight_data1.index[flight_data1.Time == '114'])\n",
    "    flight_data1 = flight_data1.drop(flight_data1.index[flight_data1.Time == '0943'])\n",
    "    flight_data1 = flight_data1.drop(flight_data1.index[flight_data1.Time == '18.40'])\n",
    "    flight_data1 = flight_data1.drop(flight_data1.index[flight_data1.Time == '22\\'08'])\n",
    "    flight_data1 = flight_data1.drop(flight_data1.index[flight_data1.Time == '12\\'20'])\n",
    "\n",
    "    #Convert into a series and also into ints\n",
    "    flight_data2 = pd.Series(flight_data1['Time'])\n",
    "    flight_data2.sort_values(ascending = True)\n",
    "    flight_data2 = pd.to_numeric(flight_data2, errors='coerce')\n",
    "\n",
    "    #Counter for the value \n",
    "    flight_data3 = flight_data2.value_counts(normalize=False, sort=True, ascending=False, bins=None, dropna=True)\n",
    "    flight_data3.sort_values(ascending = True)\n",
    "\n",
    "    output = flight_data3.tolist()\n",
    "\n",
    "    out = [flight_data3[0]]\n",
    "    out.append(flight_data3[1])\n",
    "    out.append(flight_data3[2])\n",
    "    out.append(flight_data3[3])\n",
    "    out.append(flight_data3[4])\n",
    "    out.append(flight_data3[5])\n",
    "    out.append(flight_data3[6])\n",
    "    out.append(flight_data3[7])\n",
    "    out.append(flight_data3[8])\n",
    "    out.append(flight_data3[9])\n",
    "    out.append(flight_data3[10])\n",
    "    out.append(flight_data3[11])\n",
    "    out.append(flight_data3[12])\n",
    "    out.append(flight_data3[13])\n",
    "    out.append(flight_data3[14])\n",
    "    out.append(flight_data3[15])\n",
    "    out.append(flight_data3[16])\n",
    "    out.append(flight_data3[17])\n",
    "    out.append(flight_data3[18])\n",
    "    out.append(flight_data3[19])\n",
    "    out.append(flight_data3[20])\n",
    "    out.append(flight_data3[21])\n",
    "    out.append(flight_data3[22])\n",
    "    out.append(flight_data3[23])\n",
    "    return out\n",
    "\n",
    "print(histogram_times(\"airplane_crashes.csv\"))"
   ]
  },
  {
   "cell_type": "code",
   "execution_count": null,
   "metadata": {},
   "outputs": [],
   "source": []
  }
 ],
 "metadata": {
  "kernelspec": {
   "display_name": "Python 3",
   "language": "python",
   "name": "python3"
  },
  "language_info": {
   "codemirror_mode": {
    "name": "ipython",
    "version": 3
   },
   "file_extension": ".py",
   "mimetype": "text/x-python",
   "name": "python",
   "nbconvert_exporter": "python",
   "pygments_lexer": "ipython3",
   "version": "3.6.5"
  }
 },
 "nbformat": 4,
 "nbformat_minor": 2
}
